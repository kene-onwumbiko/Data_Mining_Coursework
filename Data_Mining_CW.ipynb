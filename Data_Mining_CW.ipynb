{
 "cells": [
  {
   "cell_type": "code",
   "execution_count": 4,
   "id": "10f29106-bdf1-4a05-b9be-3a950251edb8",
   "metadata": {},
   "outputs": [],
   "source": [
    "import pandas as pd\n",
    "import sweetviz as sv"
   ]
  },
  {
   "cell_type": "code",
   "execution_count": 1,
   "id": "dfee4407-0740-4b9b-b786-2a76d2212aa2",
   "metadata": {},
   "outputs": [
    {
     "name": "stdout",
     "output_type": "stream",
     "text": [
      "Kene\n"
     ]
    }
   ],
   "source": [
    "print(\"Kene\")"
   ]
  },
  {
   "cell_type": "markdown",
   "id": "a51ca08e-70a9-41c8-b51f-f7e42371329c",
   "metadata": {},
   "source": [
    "# This is one hash tag\n",
    "## This is two hash tags\n",
    "### This is three hash tags\n",
    "#### This is four hash tags\n",
    "##### This is five hash tags\n",
    "###### This is six hash tags"
   ]
  },
  {
   "cell_type": "markdown",
   "id": "a2f21896-cffa-42d6-a273-5d1784f94ae2",
   "metadata": {},
   "source": [
    "1) Me\n",
    "2) I am happy\n",
    "3) Chisom\n",
    "4) Kene\n",
    "* I am happy\n",
    "* Rico\n",
    "* lewis "
   ]
  },
  {
   "cell_type": "markdown",
   "id": "cee29f83-61f6-49fa-83a9-714b58f912b6",
   "metadata": {},
   "source": [
    "dhgdwjgjhwjhhwekjkjkjewjejlewklekwlkewlewkew\n",
    "\n",
    "hdwhjwehkewkjekjekjekjew\n",
    "\n",
    "djwhwehkjewkjew\n",
    "\n",
    "ewhwjehjehwkew\n"
   ]
  },
  {
   "cell_type": "code",
   "execution_count": null,
   "id": "7eabf1c6-48c7-4f8c-8d4e-54c9f2624338",
   "metadata": {},
   "outputs": [],
   "source": []
  }
 ],
 "metadata": {
  "kernelspec": {
   "display_name": "Python 3 (ipykernel)",
   "language": "python",
   "name": "python3"
  },
  "language_info": {
   "codemirror_mode": {
    "name": "ipython",
    "version": 3
   },
   "file_extension": ".py",
   "mimetype": "text/x-python",
   "name": "python",
   "nbconvert_exporter": "python",
   "pygments_lexer": "ipython3",
   "version": "3.11.5"
  }
 },
 "nbformat": 4,
 "nbformat_minor": 5
}
